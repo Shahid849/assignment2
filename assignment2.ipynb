{
 "cells": [
  {
   "cell_type": "raw",
   "id": "d9d80eca-2ec1-4833-acb1-795554a2d2a7",
   "metadata": {},
   "source": [
    "1.What are the two values of the Boolean data type? How do you write them?"
   ]
  },
  {
   "cell_type": "raw",
   "id": "d67a9ea1-82aa-48d2-8ffe-abe7379744be",
   "metadata": {},
   "source": [
    "Ans: The two boolean values are True and False. Now as Python is case sensitive we write the 'T' of True as\n",
    "capital and similarly the 'F' of False is also written capital."
   ]
  },
  {
   "cell_type": "raw",
   "id": "3e7d5c3f-79a8-4a8f-b73a-13e906437da0",
   "metadata": {},
   "source": [
    "2. What are the three different types of Boolean operators?"
   ]
  },
  {
   "cell_type": "raw",
   "id": "f4120f63-1cb7-4551-87a2-05cb94e68f41",
   "metadata": {},
   "source": [
    "Ans: The three diffrent types of Boolean operators are Boolean and , Bollean or and Boolean not"
   ]
  },
  {
   "cell_type": "raw",
   "id": "2e7c8465-7ca1-4d92-a2a6-82feefca5be6",
   "metadata": {},
   "source": [
    "3. Make a list of each Boolean operator&#39;s truth tables (i.e. every possible combination of Boolean\n",
    "values for the operator and what it evaluate )."
   ]
  },
  {
   "cell_type": "raw",
   "id": "6aa618ac-b791-4b53-bff0-8a1753b81ac9",
   "metadata": {},
   "source": [
    "Ans:True and True is True.\n",
    "True and False is False.\n",
    "False and True is False.\n",
    "False and False is False.\n",
    "True or True is True.\n",
    "True or False is True.\n",
    "False or True is True.\n",
    "False or False is False.\n",
    "not True is False.\n",
    "not False is True."
   ]
  },
  {
   "cell_type": "raw",
   "id": "b233ebb4-6e49-4a91-a583-94a3f553256a",
   "metadata": {},
   "source": [
    "4. What are the values of the following expressions?\n",
    "(5 > 4) and (3 == 5)\n",
    "not (5 > 4)\n",
    "(5 > 4) or (3 == 5)\n",
    "not ((5 > 4) or (3 == 5))\n",
    "(True and True) and (True == False)\n",
    "(not False) or (not True)"
   ]
  },
  {
   "cell_type": "raw",
   "id": "389d3236-3a72-41ac-9286-847deedadc73",
   "metadata": {},
   "source": [
    "Ans:False\n",
    "    False\n",
    "    True\n",
    "    False\n",
    "    False\n",
    "    True\n",
    "    "
   ]
  },
  {
   "cell_type": "raw",
   "id": "6edec42f-0a22-4666-b3c1-b330af423aa6",
   "metadata": {},
   "source": [
    "5. What are the six comparison operators?"
   ]
  },
  {
   "cell_type": "raw",
   "id": "d9c008b0-3120-4ec4-afc5-41f61938de22",
   "metadata": {},
   "source": [
    "The six comparison operators in python are: less than ( < ), less than or equal to ( <= ), greater than ( > ),\n",
    "greater than or equal to ( >= ), equal to ( == ), and not equal to ( != )."
   ]
  },
  {
   "cell_type": "raw",
   "id": "a3d783a6-cb78-4359-844a-1ea93a199233",
   "metadata": {},
   "source": [
    "6. How do you tell the difference between the equal to and assignment operators?Describe a\n",
    "condition and when you would use one."
   ]
  },
  {
   "cell_type": "raw",
   "id": "151a0446-b2ce-4cd6-b566-09929a8ae1d8",
   "metadata": {},
   "source": [
    "Ans: we use == to compare two values whaile as = is an asignment operator to assign a value to a variable.\n",
    "A condition is an expression used in a flow control statement that evaluates to a Boolean value."
   ]
  },
  {
   "cell_type": "raw",
   "id": "09b51ae7-dded-4869-9676-bfeb6bdb0d8b",
   "metadata": {},
   "source": [
    "7. Identify the three blocks in this code:\n",
    "spam = 0\n",
    "if spam == 10:\n",
    "print('eggs')\n",
    "if spam > 5:\n",
    "print('bacon')\n",
    "else:\n",
    "print('ham')\n",
    "print('spam')\n",
    "print('spam')"
   ]
  },
  {
   "cell_type": "raw",
   "id": "004cf751-4b5f-4c95-8e4d-0d383f8d8bfd",
   "metadata": {},
   "source": [
    "Ans: The three blocks of code are:\n",
    "if spam == 10:    \"\"\" ist \n",
    "    print('eggs')     block\"\"\"\n",
    "    \n",
    "if spam > 5:     \"\"\"2nd\n",
    "    print('bacon')   block\"\"\"\n",
    "    \n",
    "else:\n",
    "    print('ham')  \"\"\" 3rd\n",
    "    print('spam')      block\"\"\"\n",
    "    print('spam')\n",
    "    "
   ]
  },
  {
   "cell_type": "raw",
   "id": "b7f92e75-a675-45b1-b8ba-7a2d9e98f21e",
   "metadata": {},
   "source": [
    "8. Write code that prints Hello if 1 is stored in spam, prints Howdy if 2 is stored in spam, and prints\n",
    "Greetings! if anything else is stored in spam."
   ]
  },
  {
   "cell_type": "code",
   "execution_count": 4,
   "id": "fcf9d306-142b-422a-8a63-538adbf2392a",
   "metadata": {},
   "outputs": [
    {
     "name": "stdin",
     "output_type": "stream",
     "text": [
      "enter you number 5\n"
     ]
    },
    {
     "name": "stdout",
     "output_type": "stream",
     "text": [
      "Greetings\n"
     ]
    }
   ],
   "source": [
    "#Ans: \n",
    "spam =int(input(\"enter you number\"))\n",
    "if spam==1:\n",
    "    print(\"Hello\")\n",
    "elif spam==2:\n",
    "    print(\"Howdy\")\n",
    "else:\n",
    "    print(\"Greetings\")"
   ]
  },
  {
   "cell_type": "raw",
   "id": "a747f11e-b681-497a-aeea-ce8be35a89de",
   "metadata": {},
   "source": [
    "9.If your programme is stuck in an endless loop, what keys you’ll press?"
   ]
  },
  {
   "cell_type": "raw",
   "id": "b5ae0486-4d8b-47ee-9a3d-1e8badac5962",
   "metadata": {},
   "source": [
    "Ans:ctrl+c"
   ]
  },
  {
   "cell_type": "raw",
   "id": "24730261-9094-4ba0-9dbd-614413bb8217",
   "metadata": {},
   "source": [
    "10. How can you tell the difference between break and continue?"
   ]
  },
  {
   "cell_type": "raw",
   "id": "3bf26f12-004c-4621-aae2-520a78279510",
   "metadata": {},
   "source": [
    "The break statement will move the execution outside and just after a loop   WHILE AS \n",
    "The continue statement will move the execution to the start of the loop."
   ]
  },
  {
   "cell_type": "raw",
   "id": "8e75c77c-ac92-4822-9442-e31c8768c495",
   "metadata": {},
   "source": [
    "11. In a for loop, what is the difference between range(10), range(0, 10), and range(0, 10, 1)?"
   ]
  },
  {
   "cell_type": "raw",
   "id": "f38ff163-04f1-4f78-8f69-8caef5377ddc",
   "metadata": {},
   "source": [
    "Ans:in range(10) the loop will run from 1 and stop at 9,\n",
    "    in range(0,10) the loop will start at 0 and will terminate at 10 ( the 0 is called the start and 10 is \n",
    "                                                                      called stop)\n",
    "    in range (0,10,1) the loop will start from 0 and will terminate at 10 and will step with 1 on each iteration\n",
    "    "
   ]
  },
  {
   "cell_type": "raw",
   "id": "010d9cd5-9aae-4ffb-ab13-4df4142ea9f1",
   "metadata": {},
   "source": [
    "12. Write a short program that prints the numbers 1 to 10 using a for loop. Then write an equivalent\n",
    "program that prints the numbers 1 to 10 using a while loop."
   ]
  },
  {
   "cell_type": "code",
   "execution_count": 8,
   "id": "05ddb986-e51b-47c8-b61f-9b673dcab659",
   "metadata": {},
   "outputs": [
    {
     "name": "stdout",
     "output_type": "stream",
     "text": [
      "1\n",
      "2\n",
      "3\n",
      "4\n",
      "5\n",
      "6\n",
      "7\n",
      "8\n",
      "9\n",
      "10\n"
     ]
    }
   ],
   "source": [
    "#Ans: \n",
    "i=1\n",
    "for i in range(1,11):\n",
    "    print(i)"
   ]
  },
  {
   "cell_type": "code",
   "execution_count": 21,
   "id": "5b309088-c740-4754-83b9-970213455534",
   "metadata": {},
   "outputs": [
    {
     "name": "stdout",
     "output_type": "stream",
     "text": [
      "1\n",
      "2\n",
      "3\n",
      "4\n",
      "5\n",
      "6\n",
      "7\n",
      "8\n",
      "9\n",
      "10\n"
     ]
    }
   ],
   "source": [
    "i=1\n",
    "while(i<=10):\n",
    "    print(i)\n",
    "    i+=1"
   ]
  },
  {
   "cell_type": "raw",
   "id": "96ec4da3-59fa-4e56-a169-9b61d729dd04",
   "metadata": {},
   "source": [
    "13. If you had a function named bacon() inside a module named spam, how would you call it after\n",
    "importing spam?"
   ]
  }
 ],
 "metadata": {
  "kernelspec": {
   "display_name": "Python 3 (ipykernel)",
   "language": "python",
   "name": "python3"
  },
  "language_info": {
   "codemirror_mode": {
    "name": "ipython",
    "version": 3
   },
   "file_extension": ".py",
   "mimetype": "text/x-python",
   "name": "python",
   "nbconvert_exporter": "python",
   "pygments_lexer": "ipython3",
   "version": "3.10.6"
  }
 },
 "nbformat": 4,
 "nbformat_minor": 5
}
